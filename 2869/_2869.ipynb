{
  "nbformat": 4,
  "nbformat_minor": 0,
  "metadata": {
    "colab": {
      "name": "# 2869",
      "provenance": []
    },
    "kernelspec": {
      "name": "python3",
      "display_name": "Python 3"
    }
  },
  "cells": [
    {
      "cell_type": "code",
      "metadata": {
        "id": "c4XvT3cmn0Ra",
        "colab": {
          "base_uri": "https://localhost:8080/",
          "height": 51
        },
        "outputId": "091c6ccd-3935-4c91-f27c-8cbf1e8a5810"
      },
      "source": [
        "# 2869 달팽이는 올라가고 싶다  ==> 시간초과\n",
        "\n",
        "A, B, V = map(int, input().split(' ')) # 낮에 올라가는 거리, 밤에 미끄러지는 거리,  높이 순\n",
        "\n",
        "height = 0\n",
        "d = 0 \n",
        "\n",
        "while 1:\n",
        "  d += 1\n",
        "  height += A\n",
        "  if height >= V:\n",
        "    break\n",
        "  height -= B\n",
        "\n",
        "print(d)\n",
        "\n",
        "# A, B, V 범위가 1,000,000,000 까지라서 이렇게 돌리면 시간초과인듯."
      ],
      "execution_count": null,
      "outputs": [
        {
          "output_type": "stream",
          "text": [
            "7500 2507 12312414\n",
            "2466\n"
          ],
          "name": "stdout"
        }
      ]
    },
    {
      "cell_type": "code",
      "metadata": {
        "id": "w6914DF2qS3q",
        "colab": {
          "base_uri": "https://localhost:8080/",
          "height": 51
        },
        "outputId": "c0133290-6062-4b22-d533-74912b74200c"
      },
      "source": [
        "A, B, V = map(int, input().split(' ')) # 낮에 올라가는 거리, 밤에 미끄러지는 거리,  높이 순\n",
        "\n",
        "h = A - B  # 하루에 올라가는 거리\n",
        "case1 = int((V - A) / h + 1)  # 나누어 떨어질 때\n",
        "case2 = int((V - A) / h + 2)  # 안 나누어 떨어질 때\n",
        "d = (V - A) % h\n",
        "\n",
        "if d == 0 :\n",
        "  print(case1)\n",
        "else:\n",
        "  print(case2)\n",
        "\n",
        "\n",
        "# 정답처리"
      ],
      "execution_count": null,
      "outputs": [
        {
          "output_type": "stream",
          "text": [
            "7500 2507 12312414\n",
            "2466\n"
          ],
          "name": "stdout"
        }
      ]
    }
  ]
}