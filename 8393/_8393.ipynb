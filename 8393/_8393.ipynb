{
  "nbformat": 4,
  "nbformat_minor": 0,
  "metadata": {
    "colab": {
      "name": "#8393",
      "provenance": []
    },
    "kernelspec": {
      "name": "python3",
      "display_name": "Python 3"
    }
  },
  "cells": [
    {
      "cell_type": "code",
      "metadata": {
        "colab": {
          "base_uri": "https://localhost:8080/"
        },
        "id": "hRUc2LT0OFKX",
        "outputId": "2c89ac90-8ca3-44ef-b401-81dad0196afd"
      },
      "source": [
        "# 8393 합1\n",
        "\n",
        "n = int(input())\n",
        "sum = 0\n",
        "\n",
        "for i in range(1,n+1):\n",
        "    sum = sum + i\n",
        "\n",
        "print(sum)"
      ],
      "execution_count": 1,
      "outputs": [
        {
          "output_type": "stream",
          "text": [
            "3\n",
            "6\n"
          ],
          "name": "stdout"
        }
      ]
    },
    {
      "cell_type": "code",
      "metadata": {
        "colab": {
          "base_uri": "https://localhost:8080/"
        },
        "id": "4-HHD37GOplh",
        "outputId": "dcca9a61-b9dc-4e2c-d003-f837789fa844"
      },
      "source": [
        "# 8393 합2\n",
        "\n",
        "n = int(input())\n",
        "\n",
        "print((n**2+n)//2)"
      ],
      "execution_count": 2,
      "outputs": [
        {
          "output_type": "stream",
          "text": [
            "3\n",
            "6\n"
          ],
          "name": "stdout"
        }
      ]
    }
  ]
}