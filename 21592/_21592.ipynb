{
  "nbformat": 4,
  "nbformat_minor": 0,
  "metadata": {
    "colab": {
      "name": "# 21592",
      "provenance": []
    },
    "kernelspec": {
      "name": "python3",
      "display_name": "Python 3"
    },
    "language_info": {
      "name": "python"
    }
  },
  "cells": [
    {
      "cell_type": "code",
      "metadata": {
        "colab": {
          "base_uri": "https://localhost:8080/"
        },
        "id": "2Fv8regOKxHM",
        "outputId": "66180a66-2daf-45ff-a8df-675c50fdc570"
      },
      "source": [
        "# 21592 Longest Common Substring ==> 틀림\n",
        "# 반례 : 3, abcdefg abcfg fg\n",
        "import sys\n",
        "\n",
        "def dp(string1, string2):\n",
        "    max = 0\n",
        "    idx = 0\n",
        "    strings = [[0 for _ in range(len(string2)+ 1)] for _ in range(len(string1)+1)]\n",
        "\n",
        "    for i in range(len(string1)):\n",
        "        for j in range(len(string2)):\n",
        "            if string1[i] == string2[j]:\n",
        "                strings[i+1][j+1] = strings[i][j] + 1\n",
        "            if max < strings[i+1][j+1]:\n",
        "                max = strings[i+1][j+1]\n",
        "                idx = i+1\n",
        "    return string1[idx-max:idx]\n",
        "\n",
        "\n",
        "n = int(input()) # the number of strings\n",
        "\n",
        "s1 = input()\n",
        "\n",
        "for _ in range(1,n):\n",
        "    s2 = input()\n",
        "    s1 = dp(s1,s2)\n",
        "\n",
        "print(len(s1))"
      ],
      "execution_count": 23,
      "outputs": [
        {
          "output_type": "stream",
          "text": [
            "3\n",
            "abcdefg\n",
            "abcfg\n",
            "fg\n",
            "0\n"
          ],
          "name": "stdout"
        }
      ]
    },
    {
      "cell_type": "code",
      "metadata": {
        "colab": {
          "base_uri": "https://localhost:8080/"
        },
        "id": "dYySQl-eUy6l",
        "outputId": "7c98e924-766d-4562-e0f6-1dec16dc904c"
      },
      "source": [
        "import sys\n",
        "def solve():\n",
        "    n = int(input())\n",
        "\n",
        "    for _ in range(n):\n",
        "        string = sys.stdin.readline().rstrip() \n",
        "        strings.append(string)\n",
        "\n",
        "    least = min(strings, key=len)\n",
        "\n",
        "    for strlen in range(len(least), -1, -1): # 첫번째 문자열의 길이부터 0까지 -1 단위로\n",
        "        for i in range(len(least)-strlen+1):\n",
        "            idx = i+strlen\n",
        "            substring = least[i:idx]\n",
        "        \n",
        "            if all(substring in x for x in strings]): # 모든 문자열들에 substring이 들어간다면\n",
        "                print(strlen)\n",
        "                return\n",
        "\n",
        "solve()"
      ],
      "execution_count": 5,
      "outputs": [
        {
          "output_type": "stream",
          "text": [
            "3\n",
            "abcdefg\n",
            "abc fg\n",
            "fg\n",
            "2\n"
          ],
          "name": "stdout"
        }
      ]
    }
  ]
}