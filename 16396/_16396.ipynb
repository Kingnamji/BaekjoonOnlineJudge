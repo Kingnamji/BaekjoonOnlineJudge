{
  "nbformat": 4,
  "nbformat_minor": 0,
  "metadata": {
    "colab": {
      "name": "# 16396",
      "provenance": []
    },
    "kernelspec": {
      "name": "python3",
      "display_name": "Python 3"
    },
    "language_info": {
      "name": "python"
    }
  },
  "cells": [
    {
      "cell_type": "code",
      "metadata": {
        "colab": {
          "base_uri": "https://localhost:8080/"
        },
        "id": "rqZ5gCuuI-gF",
        "outputId": "fbc48a65-51e3-4462-82bf-f9aaa84cc976"
      },
      "source": [
        "# 16396 선 그리기  => 시간 소요가 너무 큼\n",
        "N = int(input())\n",
        "\n",
        "line = [0 for _ in range(10001)] # 투사된 선\n",
        "sum = 0\n",
        "\n",
        "for _ in range(N):\n",
        "    Xi, Yi = map(int, input().split())\n",
        "\n",
        "    for i in range(Xi, Yi): # 시작 점부터 끝 점 까지\n",
        "        line[i] = 1 # 1로 바꿔준다 (투시)\n",
        "\n",
        "for i in range(1,10001):\n",
        "    sum += line[i]\n",
        "\n",
        "print(sum)"
      ],
      "execution_count": 5,
      "outputs": [
        {
          "output_type": "stream",
          "text": [
            "4\n",
            "1 3\n",
            "2 5\n",
            "4 9 \n",
            "11 13\n",
            "10\n"
          ],
          "name": "stdout"
        }
      ]
    },
    {
      "cell_type": "code",
      "metadata": {
        "colab": {
          "base_uri": "https://localhost:8080/"
        },
        "id": "kZZdL-RaMqU_",
        "outputId": "8454aabc-caa4-466d-e826-9f574a5717bf"
      },
      "source": [
        "# 16396 선 그리기 => 시간 줄임\n",
        "N = int(input())\n",
        "line = {x:0 for x in range(10001)} # 투사된 선\n",
        "\n",
        "projection = 0\n",
        "sum = 0\n",
        "\n",
        "for _ in range(N):\n",
        "    Xi, Yi = map(int, input().split())\n",
        "    line[Xi] += 1\n",
        "    line[Yi] -= 1\n",
        "\n",
        "for value in line.values():\n",
        "    projection += value # 선이 끝나면 0이 된다.\n",
        "    \n",
        "    if projection > 0: #선이 이어지는 동안\n",
        "        sum += 1 \n",
        "\n",
        "print(sum)"
      ],
      "execution_count": 26,
      "outputs": [
        {
          "output_type": "stream",
          "text": [
            "4\n",
            "1 3\n",
            "2 5\n",
            "4 9\n",
            "11 13\n",
            "10\n"
          ],
          "name": "stdout"
        }
      ]
    }
  ]
}