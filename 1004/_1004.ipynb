{
  "nbformat": 4,
  "nbformat_minor": 0,
  "metadata": {
    "colab": {
      "name": "#1004",
      "provenance": []
    },
    "kernelspec": {
      "name": "python3",
      "display_name": "Python 3"
    }
  },
  "cells": [
    {
      "cell_type": "code",
      "metadata": {
        "colab": {
          "base_uri": "https://localhost:8080/"
        },
        "id": "XMlePSGKdORx",
        "outputId": "72ae2f2b-fcf9-4532-bbdd-1fd9c6712293"
      },
      "source": [
        "# 1004 어린 왕자\n",
        "T = int(input()) # 테스트 케이스 입력\n",
        "\n",
        "for i in range(T): \n",
        "    x1, y1, x2, y2 = map(int, input().split(' '))\n",
        "    cnt = 0 # 진입/이탈 횟수\n",
        "    n = int(input()) # 행성계의 개수 n\n",
        "\n",
        "    for j in range(n):\n",
        "        cx, cy, r = map(int, input().split(' '))\n",
        "        dist1 = ( (cx-x1)**2 + (cy-y1)**2 ) ** 0.5 # 출발점과 주어진 점의 거리\n",
        "        dist2 = ( (cx-x2)**2 + (cy-y2)**2 ) ** 0.5 # 도착점과 주어진 점의 거리\n",
        "\n",
        "        if (dist1 < r and dist2 > r) or (dist1 > r and dist2 < r): # 출발 or 도착 점 중 하나만 행성계에 속하는 경우\n",
        "            cnt += 1\n",
        "            \n",
        "    print(cnt) # 진입/이탈 횟수 출력"
      ],
      "execution_count": 1,
      "outputs": [
        {
          "output_type": "stream",
          "text": [
            "2\n",
            "-5 1 12 1\n",
            "7\n",
            "1 1 8\n",
            "-3 -1 1\n",
            "2 2 2\n",
            "5 5 1\n",
            "-4 5 1\n",
            "12 1 1\n",
            "12 1 2\n",
            "3\n",
            "-5 1 5 1\n",
            "1 \n",
            "0 0 2\n",
            "0\n"
          ],
          "name": "stdout"
        }
      ]
    }
  ]
}