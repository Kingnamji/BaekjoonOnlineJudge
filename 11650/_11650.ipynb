{
  "nbformat": 4,
  "nbformat_minor": 0,
  "metadata": {
    "colab": {
      "name": "# 11650",
      "provenance": []
    },
    "kernelspec": {
      "name": "python3",
      "display_name": "Python 3"
    }
  },
  "cells": [
    {
      "cell_type": "code",
      "metadata": {
        "colab": {
          "base_uri": "https://localhost:8080/"
        },
        "id": "M_RZMEhXEoGU",
        "outputId": "b6740e33-06fb-45aa-c582-ac08efd3a211"
      },
      "source": [
        "# 11650 좌표 정렬하기 => 버블 정렬 사용, 시간초과\r\n",
        "N = int(input()) # 점의 개수\r\n",
        "# x와 y좌표를 각각 담을 리스트 생성\r\n",
        "x_list = []\r\n",
        "y_list = [] \r\n",
        "\r\n",
        "for i in range(N):\r\n",
        "    x, y = map(int, input().split())\r\n",
        "    x_list.append(x)\r\n",
        "    y_list.append(y)\r\n",
        "\r\n",
        "for i in range(N-1):\r\n",
        "    for j in range(N-1-i):\r\n",
        "        if x_list[j] > x_list[j+1]:\r\n",
        "            temp_x = x_list[j]\r\n",
        "            temp_y = y_list[j]\r\n",
        "\r\n",
        "            x_list[j] = x_list[j+1]\r\n",
        "            y_list[j] = y_list[j+1]\r\n",
        "\r\n",
        "            x_list[j+1] = temp_x\r\n",
        "            y_list[j+1] = temp_y\r\n",
        "        elif x_list[j] == x_list[j+1]:\r\n",
        "            if y_list[j] > y_list[j+1]:\r\n",
        "                temp_x = x_list[j]\r\n",
        "                temp_y = y_list[j]\r\n",
        "\r\n",
        "                x_list[j] = x_list[j+1]\r\n",
        "                y_list[j] = y_list[j+1]\r\n",
        "\r\n",
        "                x_list[j+1] = temp_x\r\n",
        "                y_list[j+1] = temp_y\r\n",
        "\r\n",
        "for i in range(N):\r\n",
        "    print(x_list[i], y_list[i])"
      ],
      "execution_count": 2,
      "outputs": [
        {
          "output_type": "stream",
          "text": [
            "5\n",
            "3 4\n",
            "1 1\n",
            "1 -1\n",
            "2 2\n",
            "3 3\n",
            "1 -1\n",
            "1 1\n",
            "2 2\n",
            "3 3\n",
            "3 4\n"
          ],
          "name": "stdout"
        }
      ]
    },
    {
      "cell_type": "code",
      "metadata": {
        "colab": {
          "base_uri": "https://localhost:8080/"
        },
        "id": "79NKBJWKI2pp",
        "outputId": "051a22b0-36a5-40f4-8b72-22d0b4bdc08f"
      },
      "source": [
        "# 11650 좌표 정렬하기 => 리스트 안에 요소로 리스트 넣기\r\n",
        "N = int(input())\r\n",
        "# x와 y를 한번에 담을 리스트 생성\r\n",
        "XandY = []\r\n",
        "\r\n",
        "for i in range(N):\r\n",
        "    XandY.append(list(map(int, input().split())))\r\n",
        "\r\n",
        "XandY = sorted(XandY) # 정렬\r\n",
        "\r\n",
        "for i in XandY:\r\n",
        "    print(i[0], i[1])"
      ],
      "execution_count": 5,
      "outputs": [
        {
          "output_type": "stream",
          "text": [
            "5\n",
            "3 4\n",
            "1 -1\n",
            "1 1\n",
            "2 2\n",
            "3 3\n",
            "1 -1\n",
            "1 1\n",
            "2 2\n",
            "3 3\n",
            "3 4\n"
          ],
          "name": "stdout"
        }
      ]
    }
  ]
}