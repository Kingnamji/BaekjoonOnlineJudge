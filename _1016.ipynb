{
  "nbformat": 4,
  "nbformat_minor": 0,
  "metadata": {
    "colab": {
      "name": "# 1016",
      "provenance": [],
      "collapsed_sections": []
    },
    "kernelspec": {
      "name": "python3",
      "display_name": "Python 3"
    }
  },
  "cells": [
    {
      "cell_type": "code",
      "metadata": {
        "colab": {
          "base_uri": "https://localhost:8080/"
        },
        "id": "nBnZIRSplQQu",
        "outputId": "64151e5a-efac-49fd-a6c7-08b3a04c8e72"
      },
      "source": [
        "# 1016 제곱 ㄴㄴ 수\n",
        "\n",
        "def square_nono_number():\n",
        "    MIN, MAX = map(int, input().split(' '))\n",
        "    num = [True] * (MAX - MIN + 1) # 제곱으로 나눠지는 수에 대해서 FALSE 처리를 할 것.\n",
        "    count = 0  # 제곱 ㄴㄴ 수를 세는데 사용.\n",
        "    N = 1 # 제곱해서 나누기에 사용할 N\n",
        "\n",
        "    while N * N <= MAX:\n",
        "        N = N+1 # 2부터 시작 (조건 : 1부터 큰 제곱수)\n",
        "        square = N * N # 따라서 제곱수는 4부터.\n",
        "        i = MIN // square\n",
        "        while square * i <= MAX:\n",
        "            idx = square * i - MIN # 인덱스이므로 시작하는 숫자만큼 빼줘야함.\n",
        "            if idx >= 0 and num[idx]: # 인덱스가 0이상이고, 제곱수라고 아직 체크가 안된 경우.\n",
        "                count += 1 # 제곱수 하나 +\n",
        "                num[idx] = False # 제곱수라고 확인된 경우 False 값을 갖도록.\n",
        "\n",
        "            i = i +1  \n",
        "    print(len(num) - count)\n",
        "\n",
        "square_nono_number()"
      ],
      "execution_count": 1,
      "outputs": [
        {
          "output_type": "stream",
          "text": [
            "1 110000\n",
            "66880\n"
          ],
          "name": "stdout"
        }
      ]
    },
    {
      "cell_type": "code",
      "metadata": {
        "id": "rGY8OhlVskWE"
      },
      "source": [
        ""
      ],
      "execution_count": null,
      "outputs": []
    }
  ]
}