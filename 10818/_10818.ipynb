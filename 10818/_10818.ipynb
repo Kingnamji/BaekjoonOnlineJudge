{
  "nbformat": 4,
  "nbformat_minor": 0,
  "metadata": {
    "colab": {
      "name": "#10818",
      "provenance": []
    },
    "kernelspec": {
      "name": "python3",
      "display_name": "Python 3"
    }
  },
  "cells": [
    {
      "cell_type": "code",
      "metadata": {
        "colab": {
          "base_uri": "https://localhost:8080/"
        },
        "id": "GWqoX2oxZrxo",
        "outputId": "f67b48a1-7407-44c7-b928-b61b3b0a988d"
      },
      "source": [
        "# 10818 최소, 최대\n",
        "\n",
        "N = int(input()) # N 개의 정수의 N을 입력받는다.\n",
        "numbers = list(map(int, input().split())) # list 형으로 정수들을 입력받는다. \n",
        "\n",
        "print(min(numbers), max(numbers))"
      ],
      "execution_count": 2,
      "outputs": [
        {
          "output_type": "stream",
          "text": [
            "5\n",
            "20 10 35 30 7\n",
            "7 35\n"
          ],
          "name": "stdout"
        }
      ]
    }
  ]
}