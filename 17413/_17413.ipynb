{
  "nbformat": 4,
  "nbformat_minor": 0,
  "metadata": {
    "colab": {
      "name": "# 17413",
      "provenance": [],
      "collapsed_sections": []
    },
    "kernelspec": {
      "name": "python3",
      "display_name": "Python 3"
    }
  },
  "cells": [
    {
      "cell_type": "code",
      "metadata": {
        "colab": {
          "base_uri": "https://localhost:8080/"
        },
        "id": "ia_n6gUJHntD",
        "outputId": "85ca340a-a61a-4546-d251-f1cf61368fb2"
      },
      "source": [
        "# 17413 단어 뒤집기 2\r\n",
        "S = list(input())\r\n",
        "tag = False\r\n",
        "word = ''\r\n",
        "reverse = ''\r\n",
        "\r\n",
        "for i in S:\r\n",
        "    if tag == False:\r\n",
        "        if i == '<':\r\n",
        "            tag = True\r\n",
        "            word = word + i\r\n",
        "        elif i == ' ':\r\n",
        "            word = word + i\r\n",
        "            reverse = reverse + word\r\n",
        "            word = ''\r\n",
        "        else:\r\n",
        "            word = i + word\r\n",
        "    elif tag == True:\r\n",
        "        word = word + i\r\n",
        "        if i == '>':\r\n",
        "            tag = False\r\n",
        "            reverse = reverse + word\r\n",
        "            word = ''\r\n",
        "\r\n",
        "print(reverse + word)"
      ],
      "execution_count": 3,
      "outputs": [
        {
          "output_type": "stream",
          "text": [
            "<open>tag<close>\n",
            "<open>gat<close>\n"
          ],
          "name": "stdout"
        }
      ]
    },
    {
      "cell_type": "code",
      "metadata": {
        "colab": {
          "base_uri": "https://localhost:8080/"
        },
        "id": "ooE3McFQKgzU",
        "outputId": "168ba024-2c3d-4f1f-f883-d4e63dd64047"
      },
      "source": [
        "a=input().replace('>','<').split('<')\r\n",
        "s=\"\"\r\n",
        "for i in range(len(a)):\r\n",
        "  if i%2:\r\n",
        "      s+='<'+a[i]+'>'\r\n",
        "  else:\r\n",
        "    c=a[i].split()\r\n",
        "    s+=' '.join([d[::-1] for d in c])\r\n",
        "print(s)"
      ],
      "execution_count": 6,
      "outputs": [
        {
          "output_type": "stream",
          "text": [
            "<open>tag<close>\n",
            "<open>gat<close>\n"
          ],
          "name": "stdout"
        }
      ]
    }
  ]
}