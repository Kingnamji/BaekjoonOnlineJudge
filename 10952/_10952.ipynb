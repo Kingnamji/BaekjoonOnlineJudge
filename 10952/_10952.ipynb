{
  "nbformat": 4,
  "nbformat_minor": 0,
  "metadata": {
    "colab": {
      "name": "#10952",
      "provenance": []
    },
    "kernelspec": {
      "name": "python3",
      "display_name": "Python 3"
    }
  },
  "cells": [
    {
      "cell_type": "code",
      "metadata": {
        "colab": {
          "base_uri": "https://localhost:8080/"
        },
        "id": "gvDExh7WjVOy",
        "outputId": "58f0a031-ebfc-40d5-8aee-634f08f10d7c"
      },
      "source": [
        "# 10952 A+B -5\n",
        "\n",
        "while True:\n",
        "    A, B = map(int,input().split(' ')) # A와 B 입력받기\n",
        "\n",
        "    if (A == 0) and (B == 0): # 0 두 개가 입력된다면 종료.\n",
        "        break\n",
        "    \n",
        "    print(A+B)"
      ],
      "execution_count": 1,
      "outputs": [
        {
          "output_type": "stream",
          "text": [
            "1 1\n",
            "2\n",
            "2 3\n",
            "5\n",
            "3 4\n",
            "7\n",
            "9 8\n",
            "17\n",
            "0 0\n"
          ],
          "name": "stdout"
        }
      ]
    }
  ]
}