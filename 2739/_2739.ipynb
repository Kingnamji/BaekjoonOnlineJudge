{
  "nbformat": 4,
  "nbformat_minor": 0,
  "metadata": {
    "colab": {
      "name": "#2739",
      "provenance": []
    },
    "kernelspec": {
      "name": "python3",
      "display_name": "Python 3"
    }
  },
  "cells": [
    {
      "cell_type": "code",
      "metadata": {
        "colab": {
          "base_uri": "https://localhost:8080/"
        },
        "id": "2Jh-89NGWtPo",
        "outputId": "da664edb-7bac-4f33-c494-0e308079e3cc"
      },
      "source": [
        "# 2739 구구단\n",
        "\n",
        "N = int(input()) # N단을 입력받는다\n",
        "\n",
        "\n",
        "for i in range(9):\n",
        "    print(f'{N} * {i+1} = {N * (i+1)}') # f-string 문자열 포매팅"
      ],
      "execution_count": 6,
      "outputs": [
        {
          "output_type": "stream",
          "text": [
            "3\n",
            "3 * 1 = 3\n",
            "3 * 2 = 6\n",
            "3 * 3 = 9\n",
            "3 * 4 = 12\n",
            "3 * 5 = 15\n",
            "3 * 6 = 18\n",
            "3 * 7 = 21\n",
            "3 * 8 = 24\n",
            "3 * 9 = 27\n"
          ],
          "name": "stdout"
        }
      ]
    }
  ]
}