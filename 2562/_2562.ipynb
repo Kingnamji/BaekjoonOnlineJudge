{
  "nbformat": 4,
  "nbformat_minor": 0,
  "metadata": {
    "colab": {
      "name": "#2562",
      "provenance": []
    },
    "kernelspec": {
      "name": "python3",
      "display_name": "Python 3"
    }
  },
  "cells": [
    {
      "cell_type": "code",
      "metadata": {
        "colab": {
          "base_uri": "https://localhost:8080/"
        },
        "id": "KJSJ3NK_ckEM",
        "outputId": "1c3acb2b-a35b-4496-9e13-03d66ac0309f"
      },
      "source": [
        "# 2562 최댓값\n",
        "\n",
        "max = 0 # 입력이 자연수이기 때문에 최댓값의 초기값은 0으로 설정\n",
        "\n",
        "for i in range(9):\n",
        "    num = int(input())\n",
        "    \n",
        "    if max < num :\n",
        "        max = num\n",
        "        idx = i+1\n",
        "\n",
        "print(max)\n",
        "print(idx)"
      ],
      "execution_count": 1,
      "outputs": [
        {
          "output_type": "stream",
          "text": [
            "3\n",
            "29\n",
            "38\n",
            "12\n",
            "57\n",
            "74\n",
            "40\n",
            "85\n",
            "61\n",
            "85\n",
            "8\n"
          ],
          "name": "stdout"
        }
      ]
    }
  ]
}