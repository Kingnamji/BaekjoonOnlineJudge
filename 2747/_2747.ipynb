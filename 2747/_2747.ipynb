{
  "nbformat": 4,
  "nbformat_minor": 0,
  "metadata": {
    "colab": {
      "name": "# 2747",
      "provenance": []
    },
    "kernelspec": {
      "name": "python3",
      "display_name": "Python 3"
    },
    "language_info": {
      "name": "python"
    }
  },
  "cells": [
    {
      "cell_type": "code",
      "metadata": {
        "colab": {
          "base_uri": "https://localhost:8080/"
        },
        "id": "CcBfe8Zmnbyp",
        "outputId": "7fd8d23c-1481-42ec-8499-da244d478a5f"
      },
      "source": [
        "# 2747 피보나치 수\n",
        "\n",
        "n = int(input())\n",
        "fib = [0 for _ in range(n+1)]\n",
        "fib[1] = 1 # 입력이 자연수이기 때문에 case 0 무시\n",
        "\n",
        "for i in range(n-1):\n",
        "    fib[i+2] = fib[i+1] + fib[i]\n",
        "    \n",
        "print(fib[-1])"
      ],
      "execution_count": 41,
      "outputs": [
        {
          "output_type": "stream",
          "text": [
            "10\n",
            "55\n"
          ],
          "name": "stdout"
        }
      ]
    },
    {
      "cell_type": "code",
      "metadata": {
        "id": "hnUqzQq8qmjM"
      },
      "source": [
        "# 2747 피보나치 수\n",
        "\n",
        "def solve():\n",
        "    n = int(input())\n",
        "\n",
        "    i_0 = 0\n",
        "    i_1 = 1\n",
        "\n",
        "    for i in range(n-1):\n",
        "        i_0, i_1 = i_1, i_1 + i_0\n",
        "\n",
        "    print(i_1)\n",
        "\n",
        "solve()"
      ],
      "execution_count": null,
      "outputs": []
    }
  ]
}