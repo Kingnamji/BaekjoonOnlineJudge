{
  "nbformat": 4,
  "nbformat_minor": 0,
  "metadata": {
    "colab": {
      "name": "# 2312",
      "provenance": []
    },
    "kernelspec": {
      "name": "python3",
      "display_name": "Python 3"
    },
    "language_info": {
      "name": "python"
    }
  },
  "cells": [
    {
      "cell_type": "code",
      "metadata": {
        "colab": {
          "base_uri": "https://localhost:8080/"
        },
        "id": "1urlcgQE3Z8J",
        "outputId": "939c366f-7ca1-4ca3-d4c0-d007cad3f4a3"
      },
      "source": [
        "# 2312 수 복원하기 ==> 출력초과\n",
        "N = int(input())\n",
        "ary = [0 for _ in range(100001)]\n",
        "divs = []\n",
        "\n",
        "for _ in range(N):\n",
        "    num = int(input())\n",
        "    div = 2\n",
        "    \n",
        "    while num > 1:\n",
        "        if div > num**0.5:\n",
        "            divs.append(num)\n",
        "            ary[num] += 1\n",
        "            break\n",
        "\n",
        "        if num%div == 0:\n",
        "            ary[div] += 1\n",
        "            divs.append(div)\n",
        "            num //= div\n",
        "\n",
        "        else:\n",
        "            div += 1\n",
        "\n",
        "    for i in set(divs):\n",
        "        print(i, ary[i])\n",
        "        ary[i] = 0 # 다음 케이스를 위해 초기화"
      ],
      "execution_count": 41,
      "outputs": [
        {
          "output_type": "stream",
          "text": [
            "3\n",
            "2\n",
            "2 1\n",
            "6\n",
            "2 1\n",
            "3 1\n",
            "24\n",
            "2 3\n",
            "3 1\n"
          ],
          "name": "stdout"
        }
      ]
    },
    {
      "cell_type": "code",
      "metadata": {
        "colab": {
          "base_uri": "https://localhost:8080/"
        },
        "id": "gvhxR1nRBaNI",
        "outputId": "670f8441-b76c-4f13-9f41-fbf5f81a9d28"
      },
      "source": [
        "# 2312 수 복원하기\n",
        "N = int(input())\n",
        "\n",
        "for _ in range(N):\n",
        "    num = int(input())\n",
        "    div = 2\n",
        "\n",
        "    while num > 1:\n",
        "        cnt = 0\n",
        "\n",
        "        if num % div == 0:\n",
        "            while num % div == 0:   \n",
        "                num //= div\n",
        "                cnt += 1\n",
        "            print(div, cnt)\n",
        "\n",
        "        elif div > num**0.5: # 제곱근 이상부터는 확인할 필요 x\n",
        "            print(num, 1)\n",
        "            break\n",
        "\n",
        "        div += 1   # 다음 인수"
      ],
      "execution_count": 42,
      "outputs": [
        {
          "output_type": "stream",
          "text": [
            "5\n",
            "2\n",
            "2 1\n",
            "6\n",
            "2 1\n",
            "3 1\n",
            "24\n",
            "2 3\n",
            "3 1\n",
            "100000\n",
            "2 5\n",
            "5 5\n",
            "726\n",
            "2 1\n",
            "3 1\n",
            "11 2\n"
          ],
          "name": "stdout"
        }
      ]
    }
  ]
}