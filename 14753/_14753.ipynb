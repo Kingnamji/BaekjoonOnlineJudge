{
  "nbformat": 4,
  "nbformat_minor": 0,
  "metadata": {
    "colab": {
      "name": "# 14753",
      "provenance": []
    },
    "kernelspec": {
      "name": "python3",
      "display_name": "Python 3"
    }
  },
  "cells": [
    {
      "cell_type": "code",
      "metadata": {
        "colab": {
          "base_uri": "https://localhost:8080/"
        },
        "id": "SFQ8bzH7vDTK",
        "outputId": "8830a68e-0c48-4e52-eba5-8ccc97ce8be8"
      },
      "source": [
        "# 14753 MultiMax => 시간 초과\r\n",
        "N = int(input())\r\n",
        "number_list = list(map(int,input().split()))\r\n",
        "maximum = 0\r\n",
        "# 두 개만 곱한 결과에 *1을 하면 세 개 선택해도 두 개만 곱한 거랑 결과가 같으니 1을 추가해줬다.\r\n",
        "number_list.append(1) \r\n",
        "\r\n",
        "# 1을 추가해줬기 때문에 모든 케이스에 대해 3중 for문을 이용\r\n",
        "for i in range(N+1): \r\n",
        "    for j in range(i+1,N+1):\r\n",
        "        for k in range(j+1,N+1):  \r\n",
        "            if number_list[i]*number_list[j]*number_list[k] >= maximum:\r\n",
        "                maximum = number_list[i]*number_list[j]*number_list[k]\r\n",
        "\r\n",
        "print(maximum)"
      ],
      "execution_count": 12,
      "outputs": [
        {
          "output_type": "stream",
          "text": [
            "6\n",
            "5 10 -2 3 5 2\n",
            "250\n"
          ],
          "name": "stdout"
        }
      ]
    },
    {
      "cell_type": "code",
      "metadata": {
        "colab": {
          "base_uri": "https://localhost:8080/"
        },
        "id": "FSBYbhu3yyZg",
        "outputId": "3f7d4880-e509-4057-d766-0dca6a6eabca"
      },
      "source": [
        "# 14753 MultiMax \r\n",
        "N = int(input())\r\n",
        "number_list = list(map(int,input().split()))\r\n",
        "\r\n",
        "# 케이스 분리\r\n",
        "case = []\r\n",
        "number_list.sort()\r\n",
        "# 두 수를 선택하는경우 1. 최대인 두 양수의 곱, 2. 최소인 두 음수의 곱\r\n",
        "case.append(number_list[0] * number_list[1])\r\n",
        "case.append(number_list[N-2] * number_list[N-1])\r\n",
        "# 세 수를 선택하는경우 1. 최대인 세 양수의 곱, 2. 최대인 양수 하나와 최소인 두 음수의 곱\r\n",
        "case.append(number_list[N-1] * number_list[N-2] * number_list[N-3])\r\n",
        "case.append(number_list[0] * number_list[1] * number_list[N-1])\r\n",
        "# 그 중에 최대 값 출력\r\n",
        "print(max(case))"
      ],
      "execution_count": 19,
      "outputs": [
        {
          "output_type": "stream",
          "text": [
            "6\n",
            "5 10 -2 3 5 2\n",
            "250\n"
          ],
          "name": "stdout"
        }
      ]
    }
  ]
}