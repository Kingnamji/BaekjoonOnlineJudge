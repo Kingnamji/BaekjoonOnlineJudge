{
  "nbformat": 4,
  "nbformat_minor": 0,
  "metadata": {
    "colab": {
      "name": "# 10989",
      "provenance": []
    },
    "kernelspec": {
      "name": "python3",
      "display_name": "Python 3"
    }
  },
  "cells": [
    {
      "cell_type": "code",
      "metadata": {
        "colab": {
          "base_uri": "https://localhost:8080/"
        },
        "id": "xAkky4KhHqAs",
        "outputId": "51f90799-7cde-4ca1-dbe0-a9e0ab7ca0ae"
      },
      "source": [
        "# 10989 수 정렬하기 3 == > 시간초과\n",
        "import sys\n",
        "N = int(sys.stdin.readline())\n",
        "num = []\n",
        "for i in range(N):\n",
        "    num.append(int(sys.stdin.readline()))\n",
        "\n",
        "for j in sorted(num):\n",
        "    print(j)"
      ],
      "execution_count": 1,
      "outputs": [
        {
          "output_type": "stream",
          "text": [
            "10\n",
            "5\n",
            "2\n",
            "3\n",
            "1\n",
            "4\n",
            "2\n",
            "3\n",
            "5\n",
            "1\n",
            "7\n",
            "1\n",
            "1\n",
            "2\n",
            "2\n",
            "3\n",
            "3\n",
            "4\n",
            "5\n",
            "5\n",
            "7\n"
          ],
          "name": "stdout"
        }
      ]
    },
    {
      "cell_type": "code",
      "metadata": {
        "id": "P2YyKTV3Ij7F"
      },
      "source": [
        "# 10989 수 정렬하기 3 \n",
        "# 카운팅을 해줄 리스트를 만들어서 풀면 된다.\n",
        "import sys\n",
        "N = int(sys.stdin.readline())\n",
        "\n",
        "cnt = [0 for i in range(10001)]\n",
        "\n",
        "for i in range(N):\n",
        "    cnt[int(sys.stdin.readline())] += 1\n",
        "\n",
        "for i in range(1, 10001):\n",
        "    for j in range(cnt[i]):\n",
        "        print(i)"
      ],
      "execution_count": null,
      "outputs": []
    }
  ]
}