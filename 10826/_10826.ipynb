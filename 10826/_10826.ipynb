{
  "nbformat": 4,
  "nbformat_minor": 0,
  "metadata": {
    "colab": {
      "name": "# 10826",
      "provenance": []
    },
    "kernelspec": {
      "name": "python3",
      "display_name": "Python 3"
    }
  },
  "cells": [
    {
      "cell_type": "code",
      "metadata": {
        "colab": {
          "base_uri": "https://localhost:8080/"
        },
        "id": "v4GLBQHhyqgr",
        "outputId": "f2d47845-6f56-4175-dd33-ee5177a8c279"
      },
      "source": [
        "# 10826 피보나치 수 4\n",
        "n = int(input())\n",
        "Fibonacci = [0, 1]\n",
        "\n",
        "for i in range(2, n+1):\n",
        "    Fibonacci.append(Fibonacci[i-1]+Fibonacci[i-2])\n",
        "\n",
        "print(Fibonacci[n])"
      ],
      "execution_count": 5,
      "outputs": [
        {
          "output_type": "stream",
          "text": [
            "3\n",
            "2\n"
          ],
          "name": "stdout"
        }
      ]
    },
    {
      "cell_type": "code",
      "metadata": {
        "colab": {
          "base_uri": "https://localhost:8080/"
        },
        "id": "Z9WJOfjt0W8r",
        "outputId": "425aa493-a009-42b2-d939-b4ac8c1c418e"
      },
      "source": [
        "def fibonacci(n):\n",
        "    x, y = 0, 1\n",
        "    for i in range(n):\n",
        "        x, y = y, x+y\n",
        "    return x\n",
        "    \n",
        "print(fibonacci(int(input())))"
      ],
      "execution_count": 9,
      "outputs": [
        {
          "output_type": "stream",
          "text": [
            "0\n",
            "0\n"
          ],
          "name": "stdout"
        }
      ]
    }
  ]
}