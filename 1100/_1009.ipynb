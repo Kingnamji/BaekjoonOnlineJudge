{
  "nbformat": 4,
  "nbformat_minor": 0,
  "metadata": {
    "colab": {
      "name": "# 1009",
      "provenance": []
    },
    "kernelspec": {
      "name": "python3",
      "display_name": "Python 3"
    }
  },
  "cells": [
    {
      "cell_type": "code",
      "metadata": {
        "colab": {
          "base_uri": "https://localhost:8080/"
        },
        "id": "A_XWAAcbSWBj",
        "outputId": "c5f70eb1-fd3b-4dba-9080-b335701faf95"
      },
      "source": [
        "# 1009 분산 처리 ==> 시간초과\n",
        "import sys\n",
        "T = int(sys.stdin.readline())\n",
        "\n",
        "for i in range(T):\n",
        "    a, b = map(int, sys.stdin.readline().split())\n",
        "    print( (a**b)%10 )"
      ],
      "execution_count": 1,
      "outputs": [
        {
          "output_type": "stream",
          "text": [
            "5\n",
            "1 6\n",
            "1\n",
            "3 7\n",
            "7\n",
            "6 2\n",
            "6\n",
            "7 100\n",
            "1\n",
            "9 635\n",
            "9\n"
          ],
          "name": "stdout"
        }
      ]
    },
    {
      "cell_type": "code",
      "metadata": {
        "id": "m65HAuGHTj2W"
      },
      "source": [
        "# 1009 분산 처리 => 케이스 분리\n",
        "import sys\n",
        "T = int(sys.stdin.readline())\n",
        "\n",
        "for _ in range(T):\n",
        "    a, b = map(int, sys.stdin.readline().split())\n",
        "    a = a % 10\n",
        "    \n",
        "    if a == 0:\n",
        "        print(10)\n",
        "    elif a == 1 or a == 5 or a == 6:\n",
        "        print(a)\n",
        "    elif a == 4 or a == 9:\n",
        "        b = b % 2\n",
        "        if b == 1:\n",
        "            print(a)\n",
        "        else:\n",
        "            print((a * a) % 10)\n",
        "    else:\n",
        "        b = b % 4\n",
        "        if b == 0:\n",
        "            print((a**4) % 10 % 10 % 10)\n",
        "        else:\n",
        "            print((a**b) % 10 % 10 % 10)"
      ],
      "execution_count": null,
      "outputs": []
    }
  ]
}