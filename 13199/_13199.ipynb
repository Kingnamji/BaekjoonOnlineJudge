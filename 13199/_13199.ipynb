{
  "nbformat": 4,
  "nbformat_minor": 0,
  "metadata": {
    "colab": {
      "name": "# 13199",
      "provenance": []
    },
    "kernelspec": {
      "name": "python3",
      "display_name": "Python 3"
    },
    "language_info": {
      "name": "python"
    }
  },
  "cells": [
    {
      "cell_type": "code",
      "metadata": {
        "colab": {
          "base_uri": "https://localhost:8080/"
        },
        "id": "LBs960HDc1UU",
        "outputId": "933959ca-ac7a-4a71-b710-3266e8d726f3"
      },
      "source": [
        "# 13199 치킨 먹고 싶다\n",
        "import sys\n",
        "T = int(sys.stdin.readline()) # 테스트 케이스의 개수\n",
        "\n",
        "for _ in range(T):\n",
        "    # 치킨의 가격, 치킨에 쓸 돈, 공짜로 시킬 때 필요한 쿠폰 수, 시키면 주는 쿠폰 수\n",
        "    P, M, F, C = map(int, sys.stdin.readline().split()) \n",
        "\n",
        "    coupon = M // P * C # 둘 다 얻을 수 있는 쿠폰 수\n",
        "    cnt = 0\n",
        "\n",
        "    # 단골 기준 쿠폰이 필요한 쿠폰 수 보다 많다면\n",
        "    if coupon >= F:\n",
        "        cnt = 1 + (coupon - F) // (F-C)\n",
        "\n",
        "    cnt -= coupon // F # 단골 아니어도 쿠폰으로 먹는 수 만큼 빼준다\n",
        "    print(cnt)                "
      ],
      "execution_count": 17,
      "outputs": [
        {
          "output_type": "stream",
          "text": [
            "2\n",
            "10000 50000 5 1\n",
            "0\n",
            "10000 250000 5 1\n",
            "1\n"
          ],
          "name": "stdout"
        }
      ]
    },
    {
      "cell_type": "code",
      "metadata": {
        "id": "1wMQBOrVs1BP"
      },
      "source": [
        "# 13199 치킨 먹고 싶다\n",
        "import sys\n",
        "T = int(input()) # 테스트 케이스의 개수\n",
        "\n",
        "for i in range(T):\n",
        "    # 치킨의 가격, 치킨에 쓸 돈, 공짜로 시킬 때 필요한 쿠폰 수, 시키면 주는 쿠폰 수\n",
        "    P, M, F, C = map(int, sys.stdin.readline().split()) \n",
        "\n",
        "    coupon = (M // P) * C # 둘 다 얻을 수 있는 쿠폰 수\n",
        "    normal_cnt = (M // P) + coupon // F # 단골 아닐 때 치킨 수\n",
        "    cnt = M // P # 단골 기준 치킨 수\n",
        "    \n",
        "    # 단골 기준 쿠폰이 필요한 쿠폰 수 보다 많다면\n",
        "    if (coupon >= F):\n",
        "        cnt += 1 + (coupon - F) // (F-C) \n",
        "\n",
        "    print(cnt - normal_cnt)"
      ],
      "execution_count": null,
      "outputs": []
    }
  ]
}