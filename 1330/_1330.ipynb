{
  "nbformat": 4,
  "nbformat_minor": 0,
  "metadata": {
    "colab": {
      "name": "#1330",
      "provenance": []
    },
    "kernelspec": {
      "name": "python3",
      "display_name": "Python 3"
    }
  },
  "cells": [
    {
      "cell_type": "code",
      "metadata": {
        "colab": {
          "base_uri": "https://localhost:8080/"
        },
        "id": "1XdjyHIIVFUP",
        "outputId": "123c1734-6118-4c03-ec7b-8e0e495713e7"
      },
      "source": [
        "# 1330 두 수 비교하기\n",
        "\n",
        "A, B = map(int, input().split(' ')) # 두 정수 A와 B를 입력받는다.\n",
        "\n",
        "if A == B:\n",
        "    print(\"==\")\n",
        "elif A < B:\n",
        "    print(\"<\")\n",
        "else:\n",
        "    print(\">\")"
      ],
      "execution_count": 3,
      "outputs": [
        {
          "output_type": "stream",
          "text": [
            "2 100\n",
            "<\n"
          ],
          "name": "stdout"
        }
      ]
    }
  ]
}