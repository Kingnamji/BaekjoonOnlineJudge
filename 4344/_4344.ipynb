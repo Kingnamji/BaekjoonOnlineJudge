{
  "nbformat": 4,
  "nbformat_minor": 0,
  "metadata": {
    "colab": {
      "name": "# 4344",
      "provenance": [],
      "collapsed_sections": []
    },
    "kernelspec": {
      "name": "python3",
      "display_name": "Python 3"
    }
  },
  "cells": [
    {
      "cell_type": "code",
      "metadata": {
        "id": "CGQyYCqDk96Q",
        "colab": {
          "base_uri": "https://localhost:8080/"
        },
        "outputId": "910b14f8-89bc-4346-f5ae-40d444940573"
      },
      "source": [
        "# 4344 평균은 넘겠지\n",
        "C = int(input())\n",
        "\n",
        "for i in range(C):\n",
        "  N = list(map(int, input().split(' ')))\n",
        "  avg = sum(N[1:]) / N[0]\n",
        "  count = 0\n",
        "  for j in N[1:]:\n",
        "    if j > avg:\n",
        "      count += 1\n",
        "  \n",
        "  print(str('%.3f'%round((count/N[0])*100, 3)) + '%')"
      ],
      "execution_count": 2,
      "outputs": [
        {
          "output_type": "stream",
          "text": [
            "5\n",
            "5 50 50 70 80 100\n",
            "40.000%\n",
            "7 100 90 95 80 70 60 50\n",
            "57.143%\n",
            "3 70 90 80\n",
            "33.333%\n",
            "3 70 90 81\n",
            "66.667%\n",
            "9 100 99 98 97 96 95 94 93 91\n",
            "55.556%\n"
          ],
          "name": "stdout"
        }
      ]
    }
  ]
}