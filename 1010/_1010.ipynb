{
  "nbformat": 4,
  "nbformat_minor": 0,
  "metadata": {
    "colab": {
      "name": "#1010",
      "provenance": []
    },
    "kernelspec": {
      "name": "python3",
      "display_name": "Python 3"
    }
  },
  "cells": [
    {
      "cell_type": "code",
      "metadata": {
        "colab": {
          "base_uri": "https://localhost:8080/"
        },
        "id": "1dRNebsdOrkt",
        "outputId": "70ce9455-d039-4a0e-973d-49e22bbd045b"
      },
      "source": [
        "# 1010 다리 놓기\n",
        "\n",
        "def factorial(x): # 팩토리얼 구현\n",
        "    n = 1\n",
        "    for i in range(1,x+1):\n",
        "        n = n*i\n",
        "    return n\n",
        "\n",
        "\n",
        "def comb(m,n): # 조합 구현\n",
        "    num = factorial(m) / (factorial(m-n) * factorial(n))\n",
        "    return int(num)\n",
        "\n",
        "T = int(input()) # Test Case 수 입력\n",
        "\n",
        "for i in range(T):\n",
        "    N, M = map(int,input().split())\n",
        "    print(comb(M,N))"
      ],
      "execution_count": 4,
      "outputs": [
        {
          "output_type": "stream",
          "text": [
            "3\n",
            "2 2\n",
            "1\n",
            "1 5\n",
            "5\n",
            "13 29\n",
            "67863915\n"
          ],
          "name": "stdout"
        }
      ]
    }
  ]
}